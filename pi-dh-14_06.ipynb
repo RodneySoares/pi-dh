{
 "cells": [
  {
   "cell_type": "code",
   "execution_count": 1,
   "id": "b04aacae",
   "metadata": {},
   "outputs": [],
   "source": [
    "import basedosdados as bd"
   ]
  },
  {
   "cell_type": "code",
   "execution_count": null,
   "id": "60332c44",
   "metadata": {},
   "outputs": [
    {
     "name": "stderr",
     "output_type": "stream",
     "text": [
      "Downloading:  58%|██████████████████████████████▌                      | 11291648/19621189 [30:36<47:45, 2906.77rows/s]Exception in thread Thread-9:\n",
      "Traceback (most recent call last):\n",
      "  File \"C:\\Users\\daniu\\anaconda3\\lib\\threading.py\", line 932, in _bootstrap_inner\n",
      "    self.run()\n",
      "  File \"C:\\Users\\daniu\\anaconda3\\lib\\threading.py\", line 870, in run\n",
      "    self._target(*self._args, **self._kwargs)\n",
      "  File \"src\\python\\grpcio\\grpc\\_cython\\_cygrpc/thread.pyx.pxi\", line 53, in grpc._cython.cygrpc._run_with_context._run\n",
      "  File \"C:\\Users\\daniu\\anaconda3\\lib\\site-packages\\grpc\\_channel.py\", line 1258, in channel_spin\n",
      "    event = state.channel.next_call_event()\n",
      "  File \"src\\python\\grpcio\\grpc\\_cython\\_cygrpc/channel.pyx.pxi\", line 491, in grpc._cython.cygrpc.Channel.next_call_event\n",
      "  File \"src\\python\\grpcio\\grpc\\_cython\\_cygrpc/channel.pyx.pxi\", line 169, in grpc._cython.cygrpc._next_call_event\n",
      "  File \"src\\python\\grpcio\\grpc\\_cython\\_cygrpc/channel.pyx.pxi\", line 163, in grpc._cython.cygrpc._next_call_event\n",
      "  File \"src\\python\\grpcio\\grpc\\_cython\\_cygrpc/completion_queue.pyx.pxi\", line 64, in grpc._cython.cygrpc._latent_event\n",
      "  File \"src\\python\\grpcio\\grpc\\_cython\\_cygrpc/completion_queue.pyx.pxi\", line 59, in grpc._cython.cygrpc._interpret_event\n",
      "  File \"src\\python\\grpcio\\grpc\\_cython\\_cygrpc/tag.pyx.pxi\", line 71, in grpc._cython.cygrpc._BatchOperationTag.event\n",
      "  File \"src\\python\\grpcio\\grpc\\_cython\\_cygrpc/operation.pyx.pxi\", line 173, in grpc._cython.cygrpc.ReceiveMessageOperation.un_c\n",
      "MemoryError\n",
      "Downloading:  58%|██████████████████████████████▌                      | 11295744/19621189 [30:51<47:44, 2906.77rows/s]"
     ]
    }
   ],
   "source": [
    "df = bd.read_table(\n",
    "    dataset_id='br_ibge_pnadc',\n",
    "    table_id='microdados',\n",
    "    billing_project_id='pi-dh-316215')"
   ]
  },
  {
   "cell_type": "code",
   "execution_count": null,
   "id": "c7d1cbcc",
   "metadata": {},
   "outputs": [],
   "source": []
  }
 ],
 "metadata": {
  "kernelspec": {
   "display_name": "Python 3",
   "language": "python",
   "name": "python3"
  },
  "language_info": {
   "codemirror_mode": {
    "name": "ipython",
    "version": 3
   },
   "file_extension": ".py",
   "mimetype": "text/x-python",
   "name": "python",
   "nbconvert_exporter": "python",
   "pygments_lexer": "ipython3",
   "version": "3.8.8"
  }
 },
 "nbformat": 4,
 "nbformat_minor": 5
}
